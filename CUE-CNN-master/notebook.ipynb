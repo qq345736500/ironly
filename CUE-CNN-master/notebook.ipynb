{
 "cells": [
  {
   "cell_type": "code",
   "execution_count": 1,
   "metadata": {
    "collapsed": false
   },
   "outputs": [
    {
     "name": "stdout",
     "output_type": "stream",
     "text": [
      "\u001b[1m\u001b[36mDATA\u001b[m\u001b[m/                 bamman_redux.txt      \u001b[31mcrossfolds.sh\u001b[m\u001b[m*        \u001b[1m\u001b[36mnotebook\u001b[m\u001b[m/             \u001b[31mpreprocess_bamman.sh\u001b[m\u001b[m*\r\n",
      "README.md             bamman_redux_ids.txt  holla.txt             notebook.ipynb        \u001b[31msarcasm_cnn.sh\u001b[m\u001b[m*\r\n",
      "\u001b[1m\u001b[36maux\u001b[m\u001b[m/                  \u001b[1m\u001b[36mcode\u001b[m\u001b[m/                 \u001b[31minit.sh\u001b[m\u001b[m*              \u001b[31monefold.sh\u001b[m\u001b[m*\r\n"
     ]
    }
   ],
   "source": [
    "ls "
   ]
  },
  {
   "cell_type": "code",
   "execution_count": null,
   "metadata": {
    "collapsed": false
   },
   "outputs": [],
   "source": [
    "%matplotlib inline\n",
    "%load_ext autoreload\n",
    "%autoreload 2"
   ]
  },
  {
   "cell_type": "markdown",
   "metadata": {},
   "source": [
    "##### 1. Get Utils"
   ]
  },
  {
   "cell_type": "raw",
   "metadata": {
    "collapsed": false
   },
   "source": [
    "%%bash\n",
    "#get my utils and unpack it to \"code\" folder\n",
    "wget https://github.com/samiroid/utils/archive/master.zip\n",
    "unzip master.zip\n",
    "mv utils-master/my_utils/ code/my_utils\n",
    "rm -rf utils-master master.zip"
   ]
  },
  {
   "cell_type": "markdown",
   "metadata": {},
   "source": [
    "##### 3. Get the data"
   ]
  },
  {
   "cell_type": "raw",
   "metadata": {
    "collapsed": false
   },
   "source": [
    "%%bash\n",
    "python code/my_utils/download_tweets.py bamman_redux_ids.txt > DATA/txt/bamman_redux.txt"
   ]
  },
  {
   "cell_type": "markdown",
   "metadata": {},
   "source": [
    "##### 2. Get Word Embeddings and User Embeddings"
   ]
  },
  {
   "cell_type": "code",
   "execution_count": null,
   "metadata": {
    "collapsed": false
   },
   "outputs": [],
   "source": [
    "%%bash\n",
    "#path to word embeddings\n",
    "word_embeddings=\"/Users/samir/Dev/resources/embeddings/twitter/sarcasm/embeddings_400.txt\"\n",
    "#path to user embeddings\n",
    "user_embeddings=\"/Users/samir/Dev/resources/embeddings/twitter/sarcasm/usr2vec_400_master_2.txt\"\n",
    "rm -rf DATA || true\n",
    "mkdir DATA\n",
    "mkdir DATA/txt\n",
    "mkdir DATA/embeddings\n",
    "echo \"word embeddings: \" ${word_embeddings}\n",
    "echo \"user embeddings: \" ${user_embeddings} \n",
    "ln -s ${word_embeddings} DATA/embeddings/words.txt\n",
    "ln -s ${user_embeddings} DATA/embeddings/usr2vec.txt\n",
    "#copy training data to the appropriate folder\n",
    "cp bamman_redux.txt DATA/txt/bamman_redux.txt"
   ]
  },
  {
   "cell_type": "markdown",
   "metadata": {},
   "source": [
    "##### 4. Extract Vocabulary and Word Embeddings"
   ]
  },
  {
   "cell_type": "code",
   "execution_count": 2,
   "metadata": {
    "collapsed": false
   },
   "outputs": [
    {
     "name": "stdout",
     "output_type": "stream",
     "text": [
      "Preprocess Data\n",
      "Load Word Embeddings\n",
      "572/9618 (5.95 %) words in vocabulary found no embedding\n"
     ]
    }
   ],
   "source": [
    "%%bash\n",
    "EMB_PATH_IN=\"DATA/embeddings/words.txt\"\n",
    "EMB_PATH_OUT=\"DATA/embeddings/filtered_embs.txt\"\n",
    "TXT_IN=\"DATA/txt/bamman_redux.txt\"\n",
    "TXT_OUT=\"DATA/txt/bamman_clean.txt\"\n",
    "python aux/preprocess_bamman.py -input   ${TXT_IN} \\\n",
    "                                -out_txt ${TXT_OUT} \\\n",
    "                                -word_vectors ${EMB_PATH_IN} \\\n",
    "                                -out_vectors  ${EMB_PATH_OUT} \\"
   ]
  },
  {
   "cell_type": "code",
   "execution_count": null,
   "metadata": {
    "collapsed": false
   },
   "outputs": [],
   "source": [
    "%%bash\n",
    "head DATA/txt/bamman_redux.txt\n",
    "echo \"\"\n",
    "echo \"\"\n",
    "head DATA/txt/bamman_clean.txt"
   ]
  },
  {
   "cell_type": "markdown",
   "metadata": {},
   "source": [
    "##### 5. Run Experiment"
   ]
  },
  {
   "cell_type": "code",
   "execution_count": null,
   "metadata": {
    "collapsed": true
   },
   "outputs": [],
   "source": [
    "%%bash\n",
    "echo \"CROSSFOLD VALIDATION\"\n",
    "echo \"Fold: 0\"\n",
    "./onefold.sh 0\n",
    "echo \"Fold: 1\"\n",
    "./onefold.sh 1\n",
    "echo\"\"\n",
    "echo \"Fold: 2\"\n",
    "./onefold.sh 2\n",
    "echo\"\"\n",
    "echo \"Fold: 3\"\n",
    "./onefold.sh 3\n",
    "echo\"\"\n",
    "echo \"Fold: 4\"\n",
    "./onefold.sh 4\n",
    "echo\"\"\n",
    "echo \"Fold: 5\"\n",
    "./onefold.sh 5\n",
    "echo\"\"\n",
    "echo \"Fold: 6\"\n",
    "./onefold.sh 6\n",
    "echo\"\"\n",
    "echo \"Fold: 7\"\n",
    "./onefold.sh 7\n",
    "echo\"\"\n",
    "echo \"Fold: 8\"\n",
    "./onefold.sh 8\n",
    "echo\"\"\n",
    "echo \"Fold: 9\"\n",
    "./onefold.sh 9\n",
    "echo\"\""
   ]
  },
  {
   "cell_type": "code",
   "execution_count": null,
   "metadata": {
    "collapsed": true
   },
   "outputs": [],
   "source": []
  }
 ],
 "metadata": {
  "anaconda-cloud": {},
  "kernelspec": {
   "display_name": "Python [default]",
   "language": "python",
   "name": "python2"
  },
  "language_info": {
   "codemirror_mode": {
    "name": "ipython",
    "version": 2
   },
   "file_extension": ".py",
   "mimetype": "text/x-python",
   "name": "python",
   "nbconvert_exporter": "python",
   "pygments_lexer": "ipython2",
   "version": "2.7.12"
  }
 },
 "nbformat": 4,
 "nbformat_minor": 0
}
